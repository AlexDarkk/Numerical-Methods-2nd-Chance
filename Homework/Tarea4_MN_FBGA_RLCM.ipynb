{
  "nbformat": 4,
  "nbformat_minor": 0,
  "metadata": {
    "colab": {
      "name": "Tarea4_MN_FBGA_RLCM",
      "provenance": [],
      "collapsed_sections": [],
      "authorship_tag": "ABX9TyM/cuYSS+uwSPqrk3tkDjVu",
      "include_colab_link": true
    },
    "kernelspec": {
      "name": "python3",
      "display_name": "Python 3"
    },
    "language_info": {
      "name": "python"
    }
  },
  "cells": [
    {
      "cell_type": "markdown",
      "metadata": {
        "id": "view-in-github",
        "colab_type": "text"
      },
      "source": [
        "<a href=\"https://colab.research.google.com/github/AlexDarkk/Numerical-Methods-2nd-Chance/blob/main/Homework/Tarea4_MN_FBGA_RLCM.ipynb\" target=\"_parent\"><img src=\"https://colab.research.google.com/assets/colab-badge.svg\" alt=\"Open In Colab\"/></a>"
      ]
    },
    {
      "cell_type": "code",
      "execution_count": null,
      "metadata": {
        "id": "Zb4X9A_WVbtu"
      },
      "outputs": [],
      "source": [
        "import numpy as np\n",
        "import matplotlib.pyplot as plt\n",
        "import math as m"
      ]
    },
    {
      "cell_type": "code",
      "source": [
        "def regresion(x,y):\n",
        "  n=len(x)\n",
        "  x2=x*x\n",
        "  y2=y*y\n",
        "  xy=x*y\n",
        "  xs= np.sum(x)\n",
        "  print('x = ',xs)\n",
        "  ys= np.sum(y)\n",
        "  print('y = ',ys)\n",
        "  xys= np.sum(xy)\n",
        "  print('x*y = ',xys)\n",
        "  y2s= np.sum(y2)\n",
        "  print('y2 = ',y2s)\n",
        "  x2s= np.sum(x2)\n",
        "  print('x2 = ',x2s)\n",
        "  a_0=((x2s*ys  - xys*xs)/(n*x2s - xs**2))\n",
        "  a_1=((n*xys - xs*ys)/(n*x2s - xs**2))\n",
        "  r =((n*(xys)) - (xs*ys))/(m.sqrt(n*x2s-xs**2) * (m.sqrt(n*y2s - ys**2)))\n",
        "  return (a_0, a_1, r)"
      ],
      "metadata": {
        "id": "SagRK1c7Vkyb"
      },
      "execution_count": null,
      "outputs": []
    },
    {
      "cell_type": "code",
      "source": [
        "H = np.array([182,180,179,187,189,194,195,193,200])\n",
        "W = np.array([74, 88, 94, 78, 84, 98, 76, 86, 96])\n",
        "A = np.array([1.92, 2.11, 2.15, 2.02, 2.09, 2.31, 2.02, 2.16, 2.31])"
      ],
      "metadata": {
        "id": "B4kycDQ7utQS"
      },
      "execution_count": null,
      "outputs": []
    },
    {
      "cell_type": "code",
      "source": [
        "regresion(W,A)"
      ],
      "metadata": {
        "colab": {
          "base_uri": "https://localhost:8080/"
        },
        "id": "zckktGp2AyOg",
        "outputId": "fe53e614-6091-4742-fc11-c0c71dd43cde"
      },
      "execution_count": null,
      "outputs": [
        {
          "output_type": "stream",
          "name": "stdout",
          "text": [
            "x =  774\n",
            "y =  19.09\n",
            "x*y =  1650.3999999999999\n",
            "y2 =  40.627700000000004\n",
            "x2 =  67188\n"
          ]
        },
        {
          "output_type": "execute_result",
          "data": {
            "text/plain": [
              "(0.9275854700854816, 0.013878205128204896, 0.9411383141239112)"
            ]
          },
          "metadata": {},
          "execution_count": 7
        }
      ]
    },
    {
      "cell_type": "code",
      "source": [
        "#a0, a1, r = regresion(x,y)\n",
        "yl = a_0 + a_1*2.5 + a_2*0.025\n",
        "yl"
      ],
      "metadata": {
        "id": "p05xwpT-Wr0n",
        "colab": {
          "base_uri": "https://localhost:8080/"
        },
        "outputId": "bf0fe567-a30c-422e-8e2c-0adb9726c070"
      },
      "execution_count": null,
      "outputs": [
        {
          "output_type": "execute_result",
          "data": {
            "text/plain": [
              "52.07833535675002"
            ]
          },
          "metadata": {},
          "execution_count": 34
        }
      ]
    },
    {
      "cell_type": "code",
      "source": [
        "print(a0,a1,r)"
      ],
      "metadata": {
        "colab": {
          "base_uri": "https://localhost:8080/"
        },
        "id": "dfs7mvEha57F",
        "outputId": "5580c98a-f104-4ca7-fda2-f0ffb2cfead7"
      },
      "execution_count": null,
      "outputs": [
        {
          "output_type": "stream",
          "name": "stdout",
          "text": [
            "0.07142857142857142 0.8392857142857143 0.9318356132188194\n"
          ]
        }
      ]
    },
    {
      "cell_type": "code",
      "source": [
        "plt.figure(figsize=(15,10))\n",
        "\n",
        "\n",
        "plt.plot(x,y,'o', color='r') #,marker='o', linestyle='--', color='r'\n",
        "plt.plot(x,yl, marker='1', color='b',label='y = 0.07143 + 0.83929x \\n           R = 0.9318')\n",
        "plt.xlabel('x')\n",
        "plt.ylabel('y')\n",
        "plt.title('Regresión Lineal')\n",
        "plt.legend(loc=7)\n",
        "plt.grid()\n",
        "#plt.yticks([1,3,6])\n",
        "plt.show"
      ],
      "metadata": {
        "colab": {
          "base_uri": "https://localhost:8080/",
          "height": 638
        },
        "id": "IsfogPGKYoeQ",
        "outputId": "a74fbeb9-81ca-406f-8f8c-a2debcdb5f6e"
      },
      "execution_count": null,
      "outputs": [
        {
          "output_type": "execute_result",
          "data": {
            "text/plain": [
              "<function matplotlib.pyplot.show>"
            ]
          },
          "metadata": {},
          "execution_count": 19
        },
        {
          "output_type": "display_data",
          "data": {
            "text/plain": [
              "<Figure size 1080x720 with 1 Axes>"
            ],
            "image/png": "[encoded data removed]"
          },
          "metadata": {
            "needs_background": "light"
          }
        }
      ]
    },
    {
      "cell_type": "code",
      "source": [
        "#Km=a1\n",
        "#Cs=-a0\n",
        "\n",
        "#k = (Km * (x**2))/(Cs+x**2)\n",
        "\n",
        "#plt.figure(figsize=(15,10))\n",
        "\n",
        "#plt.plot(x,k, marker='o', color='b')\n",
        "#plt.xlabel('x')\n",
        "#plt.ylabel('y')\n",
        "#plt.title('Regresión Lineal')\n",
        "#plt.legend(loc=7)\n",
        "#plt.grid()\n",
        "#plt.yticks([1,3,6])\n",
        "#plt.show\n",
        "\n",
        "#k = (Km * (2.5**2))/(Cs+2.5**2)"
      ],
      "metadata": {
        "id": "6VsjFoSQxFi0"
      },
      "execution_count": null,
      "outputs": []
    },
    {
      "cell_type": "code",
      "source": [
        ""
      ],
      "metadata": {
        "id": "FJBzTL1ccaIh"
      },
      "execution_count": null,
      "outputs": []
    }
  ]
}