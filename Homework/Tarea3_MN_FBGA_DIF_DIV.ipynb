{
  "nbformat": 4,
  "nbformat_minor": 0,
  "metadata": {
    "colab": {
      "name": "Tarea3_MN_FBGA_DIF_DIV",
      "provenance": [],
      "collapsed_sections": [],
      "include_colab_link": true
    },
    "kernelspec": {
      "name": "python3",
      "display_name": "Python 3"
    },
    "language_info": {
      "name": "python"
    }
  },
  "cells": [
    {
      "cell_type": "markdown",
      "metadata": {
        "id": "view-in-github",
        "colab_type": "text"
      },
      "source": [
        "<a href=\"https://colab.research.google.com/github/AlexDarkk/Numerical-Methods-2nd-Chance/blob/main/Homework/Tarea3_MN_FBGA_DIF_DIV.ipynb\" target=\"_parent\"><img src=\"https://colab.research.google.com/assets/colab-badge.svg\" alt=\"Open In Colab\"/></a>"
      ]
    },
    {
      "cell_type": "markdown",
      "source": [
        "***Integrantes: Equipo 2***\n",
        "\n",
        "De la Cruz Navarro Emilio Yahir\n",
        "\n",
        "Guerrero García Mauricio Ángel\n",
        "\n",
        "Fajardo Baltazar Gustavo Alexis \n",
        "\n",
        "García Parades Joel Alejandro \n",
        "\n",
        "García Ramírez Rafael Alejandro "
      ],
      "metadata": {
        "id": "VmCGaERahzxw"
      }
    },
    {
      "cell_type": "code",
      "execution_count": null,
      "metadata": {
        "id": "xMjCMi5nbbSo"
      },
      "outputs": [],
      "source": [
        "#Importo numpy para arreglos, tabulate para tablas\n",
        "import numpy as np\n",
        "from tabulate import tabulate"
      ]
    },
    {
      "cell_type": "code",
      "source": [
        "#Se define un array de los datos x_n y de los f(x_n)\n",
        "x=np.array([[1.0], [1.3], [1.6], [1.9], [2.2]])\n",
        "y=np.array([[0.7651977],[0.6200860],[0.4554022],[0.2818186],[0.1103623]])"
      ],
      "metadata": {
        "id": "pHnnO2YYboor"
      },
      "execution_count": null,
      "outputs": []
    },
    {
      "cell_type": "code",
      "source": [
        "#Creamos la matriz necesaria para la tabla de diferencias divididas\n",
        "a = []\n",
        "for i in range(len(x)):\n",
        "  au = []\n",
        "  for j in range(len(x)):\n",
        "    au.append(0)\n",
        "  a.append(au)\n",
        "for i in range(len(x)):\n",
        "  a[i][0] = (y[i])\n"
      ],
      "metadata": {
        "id": "RLnS5AjCVF--"
      },
      "execution_count": null,
      "outputs": []
    },
    {
      "cell_type": "code",
      "source": [
        "#Calculo de la diferencias divididas\n",
        "def div(a,x):\n",
        "  for i in range(1,5):\n",
        "    for j in range(1,i+1):\n",
        "      a[i][j] = (a[i][j-1] - a[i-1][j-1])/(x[i]-x[i-j])\n",
        "\n",
        "div(a,x)"
      ],
      "metadata": {
        "id": "QkguarmMW_bh"
      },
      "execution_count": null,
      "outputs": []
    },
    {
      "cell_type": "code",
      "source": [
        "#Tabulación de los datos, en caso de contar con más datos este codigo irá en aumento\n",
        "info = {'f(x_i)': [a[0][0], a[1][0], a[2][0], a[3][0], a[4][0]], \n",
        "        'DD1': [a[0][1], a[1][1], a[2][1], a[3][1], a[4][1]],\n",
        "        'DD2': [a[0][2], a[1][2], a[2][2], a[3][2], a[4][2]],\n",
        "        'DD3': [a[0][3], a[1][3], a[2][3], a[3][3], a[4][3]],\n",
        "        'DD4': [a[0][4], a[1][4], a[2][4], a[3][4], a[4][4]]}\n",
        "\n",
        "print(tabulate(info, headers='keys', tablefmt='fancy_grid'))\n",
        "\n"
      ],
      "metadata": {
        "colab": {
          "base_uri": "https://localhost:8080/"
        },
        "id": "pG3BDFU3epQQ",
        "outputId": "7280cf68-cc10-4659-e10b-e2916dd17a83"
      },
      "execution_count": null,
      "outputs": [
        {
          "output_type": "stream",
          "name": "stdout",
          "text": [
            "╒══════════╤═══════════╤════════════╤═══════════╤═══════════╕\n",
            "│   f(x_i) │       DD1 │        DD2 │       DD3 │       DD4 │\n",
            "╞══════════╪═══════════╪════════════╪═══════════╪═══════════╡\n",
            "│ 0.765198 │  0        │  0         │ 0         │ 0         │\n",
            "├──────────┼───────────┼────────────┼───────────┼───────────┤\n",
            "│ 0.620086 │ -0.483706 │  0         │ 0         │ 0         │\n",
            "├──────────┼───────────┼────────────┼───────────┼───────────┤\n",
            "│ 0.455402 │ -0.548946 │ -0.108734  │ 0         │ 0         │\n",
            "├──────────┼───────────┼────────────┼───────────┼───────────┤\n",
            "│ 0.281819 │ -0.578612 │ -0.0494433 │ 0.0658784 │ 0         │\n",
            "├──────────┼───────────┼────────────┼───────────┼───────────┤\n",
            "│ 0.110362 │ -0.571521 │  0.0118183 │ 0.0680685 │ 0.0018251 │\n",
            "╘══════════╧═══════════╧════════════╧═══════════╧═══════════╛\n"
          ]
        }
      ]
    }
  ]
}