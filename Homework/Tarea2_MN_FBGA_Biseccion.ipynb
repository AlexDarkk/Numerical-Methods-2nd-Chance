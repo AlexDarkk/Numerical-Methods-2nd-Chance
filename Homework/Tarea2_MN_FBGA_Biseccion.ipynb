{
  "nbformat": 4,
  "nbformat_minor": 0,
  "metadata": {
    "colab": {
      "name": "Tarea2_MN_FBGA_Biseccion.ipynb",
      "provenance": [],
      "authorship_tag": "ABX9TyMQg7SCzBRDnYrVSjbjTI+v",
      "include_colab_link": true
    },
    "kernelspec": {
      "name": "python3",
      "display_name": "Python 3"
    },
    "language_info": {
      "name": "python"
    }
  },
  "cells": [
    {
      "cell_type": "markdown",
      "metadata": {
        "id": "view-in-github",
        "colab_type": "text"
      },
      "source": [
        "<a href=\"https://colab.research.google.com/github/AlexDarkk/Numerical-Methods-2nd-Chance/blob/main/Homework/Tarea2_MN_FBGA_Biseccion.ipynb\" target=\"_parent\"><img src=\"https://colab.research.google.com/assets/colab-badge.svg\" alt=\"Open In Colab\"/></a>"
      ]
    },
    {
      "cell_type": "markdown",
      "source": [
        "#Nota:\n",
        "## Anteriormente ya habia cursado la materia pero la reprobe por nada, entonces ya tengo hechos algunos codigos en python sobre los diferentes metodos que vienen en el temario, entonces tratare de hacerlos basandome en el pseudocodigo del libro, ya que la mayoria los hice sacados de internet o haciendole mis propias modificaciones, por eso le anexo dos codigos.\n"
      ],
      "metadata": {
        "id": "bltKF_WzfUy2"
      }
    },
    {
      "cell_type": "code",
      "source": [
        "import numpy as np"
      ],
      "metadata": {
        "id": "iuzWkVI3aZkM"
      },
      "execution_count": null,
      "outputs": []
    },
    {
      "cell_type": "code",
      "source": [
        "\n",
        "def f(x):\n",
        "  return x-2**(-x)"
      ],
      "metadata": {
        "id": "q7SIrSf9aEJ3"
      },
      "execution_count": null,
      "outputs": []
    },
    {
      "cell_type": "code",
      "execution_count": null,
      "metadata": {
        "id": "7Qxe1ajsaCOL"
      },
      "outputs": [],
      "source": [
        "def biseccion(a,b,tol):\n",
        "    m1=a;\n",
        "    m=b;\n",
        "    n=0;\n",
        "    \n",
        "    #Determinar si nos garantiza una raiz en el intervalo\n",
        "    if (f(a)*f(b)>0):\n",
        "        print(\"La Funcion no cambia de signo\")\n",
        "    else:\n",
        "    #Inicia el ciclo\n",
        "        while (abs(m1-m)>tol):\n",
        "            m1=m;\n",
        "            m=(a+b)/2;\n",
        "            if(f(a)*f(m)<0): #Signos opuestos en los puntos a,m\n",
        "                b=m;\n",
        "            if(f(m)*f(b)<0): #Signos opuestos en los puntos m,b \n",
        "                a=m;\n",
        "            print(\"Intervalo: [\",a,\",\",b,\"]\")\n",
        "            n+=1;\n",
        "        print(\"Numero de iteraciones\",n,\"=\",b,\" es aceptable\")"
      ]
    },
    {
      "cell_type": "code",
      "source": [
        "biseccion(0,1,10**(-4))"
      ],
      "metadata": {
        "colab": {
          "base_uri": "https://localhost:8080/"
        },
        "id": "9nCCb6vDaLWf",
        "outputId": "b63c75a8-357c-4ab7-8e11-c485608be241"
      },
      "execution_count": null,
      "outputs": [
        {
          "output_type": "stream",
          "name": "stdout",
          "text": [
            "Intervalo: [ 0.5 , 1 ]\n",
            "Intervalo: [ 0.5 , 0.75 ]\n",
            "Intervalo: [ 0.625 , 0.75 ]\n",
            "Intervalo: [ 0.625 , 0.6875 ]\n",
            "Intervalo: [ 0.625 , 0.65625 ]\n",
            "Intervalo: [ 0.640625 , 0.65625 ]\n",
            "Intervalo: [ 0.640625 , 0.6484375 ]\n",
            "Intervalo: [ 0.640625 , 0.64453125 ]\n",
            "Intervalo: [ 0.640625 , 0.642578125 ]\n",
            "Intervalo: [ 0.640625 , 0.6416015625 ]\n",
            "Intervalo: [ 0.64111328125 , 0.6416015625 ]\n",
            "Intervalo: [ 0.64111328125 , 0.641357421875 ]\n",
            "Intervalo: [ 0.64111328125 , 0.6412353515625 ]\n",
            "Intervalo: [ 0.64117431640625 , 0.6412353515625 ]\n",
            "Numero de iteraciones 14 = 0.6412353515625  es aceptable\n"
          ]
        }
      ]
    },
    {
      "cell_type": "code",
      "source": [
        "\n",
        "def bis(a,b,tol,n,f):\n",
        "  i = 1\n",
        "  FA = f(a)\n",
        "\n",
        "  while i <= n:\n",
        "    p = (a+b)/2\n",
        "    FP = f(p)\n",
        "    if (FP == 0) or ((b-a)/2 < tol):\n",
        "      return p\n",
        "    else:\n",
        "      i = i + 1\n",
        "      if (FA*FP > 0):\n",
        "        a = p\n",
        "        FA = FP\n",
        "      else:\n",
        "        b = p\n",
        "  print(\"Paso el numero maximo\")"
      ],
      "metadata": {
        "id": "UYIORwwLaUGS"
      },
      "execution_count": null,
      "outputs": []
    },
    {
      "cell_type": "code",
      "source": [
        "bis(0,1,10**(-4),40,f)"
      ],
      "metadata": {
        "colab": {
          "base_uri": "https://localhost:8080/"
        },
        "id": "aE7paDP4ZxpK",
        "outputId": "01fca02e-97e5-47bf-ce6a-0fd2d0124137"
      },
      "execution_count": null,
      "outputs": [
        {
          "output_type": "execute_result",
          "data": {
            "text/plain": [
              "0.64117431640625"
            ]
          },
          "metadata": {},
          "execution_count": 13
        }
      ]
    },
    {
      "cell_type": "code",
      "source": [
        ""
      ],
      "metadata": {
        "id": "N6BqqWnOaQEp"
      },
      "execution_count": null,
      "outputs": []
    }
  ]
}