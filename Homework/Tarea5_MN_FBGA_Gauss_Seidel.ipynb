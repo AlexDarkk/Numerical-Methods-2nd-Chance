{
  "nbformat": 4,
  "nbformat_minor": 0,
  "metadata": {
    "colab": {
      "name": "Tarea5_MN_FBGA_Gauss-Seidel.ipynb",
      "provenance": [],
      "collapsed_sections": [],
      "authorship_tag": "ABX9TyPltOuGru4I7D28cq/tS4D/",
      "include_colab_link": true
    },
    "kernelspec": {
      "name": "python3",
      "display_name": "Python 3"
    },
    "language_info": {
      "name": "python"
    }
  },
  "cells": [
    {
      "cell_type": "markdown",
      "metadata": {
        "id": "view-in-github",
        "colab_type": "text"
      },
      "source": [
        "<a href=\"https://colab.research.google.com/github/AlexDarkk/Numerical-Methods-2nd-Chance/blob/main/Homework/Tarea5_MN_FBGA_Gauss_Seidel.ipynb\" target=\"_parent\"><img src=\"https://colab.research.google.com/assets/colab-badge.svg\" alt=\"Open In Colab\"/></a>"
      ]
    },
    {
      "cell_type": "code",
      "execution_count": null,
      "metadata": {
        "id": "hR4nCxrK6tEY"
      },
      "outputs": [],
      "source": [
        "import numpy as np"
      ]
    },
    {
      "cell_type": "code",
      "source": [
        "def Gseid(a,b,n,x,imax,es,lam):\n",
        "  \n",
        "  for i in range(0,n):\n",
        "    dm = a[i,i]\n",
        "    for j in range(0,n):\n",
        "      a[i,j] = a[i,j]/dm\n",
        "    b[i] = b[i]/dm\n",
        "  \n",
        "  for i in range(0,n):\n",
        "    sum = b[i]\n",
        "    for j in range(0,n):\n",
        "      if i != j:\n",
        "        sum = sum - a[i,j]*x[j]\n",
        "    x[i] = sum\n",
        "\n",
        "    iter = 1\n",
        "\n",
        "    sentinel = 1\n",
        "    for i in range(0,n):\n",
        "      old = x[i]\n",
        "      sum = b[i]\n",
        "      for j in range(0,n):\n",
        "        if i != j:\n",
        "          sum = sum - a[i,j]*x[j]\n",
        "      x[i] = lam * sum + (1. - lam)*old\n",
        "      if sentinel == 1 and x[i] != 0:\n",
        "        ea = abs((x[i]- old/x[i]))*100\n",
        "        if ea > es:\n",
        "          sentinel = 0\n",
        "\n",
        "    iter = iter + 1\n",
        "\n",
        "    if sentinel == 1 or (iter > imax):\n",
        "      return 'Error'\n",
        "    else:\n",
        "      return x"
      ],
      "metadata": {
        "id": "MWqIK5Dm6wsR"
      },
      "execution_count": null,
      "outputs": []
    },
    {
      "cell_type": "code",
      "source": [
        "a = np.array([[3,-0.1,-0.2],[0.1,7,-0.3],[0.3,-0.2,10]], dtype=float)\n",
        "b = np.array([[7.85],[-19.3],[71.4]], dtype=float)\n",
        "\n",
        "#a = np.array([[-3,1,12],[6,-1,-1],[6,9,1]], dtype=float)\n",
        "#b = np.array([[50],[3],[40]], dtype=float)\n",
        "\n",
        "A=np.array([[0,0,2,0,6],[0,0,-2,6,0],[1,-1,0,3,0],[0,1,1,0,1],[1,0,0,1,0]],dtype=float)\n",
        "B=np.array([[0],[0],[0],[2],[1]],dtype=float)\n",
        "n = len(A)\n",
        "x = np.zeros(n)"
      ],
      "metadata": {
        "id": "q0OLnvQqxQwb"
      },
      "execution_count": null,
      "outputs": []
    },
    {
      "cell_type": "code",
      "source": [
        "Gseid(A,B,n,x,50,0.0001,1)"
      ],
      "metadata": {
        "colab": {
          "base_uri": "https://localhost:8080/",
          "height": 35
        },
        "id": "XsjPhGK0xx-y",
        "outputId": "3c8bda83-acd5-4f76-f952-6ddbba066bcb"
      },
      "execution_count": null,
      "outputs": [
        {
          "output_type": "execute_result",
          "data": {
            "text/plain": [
              "'Error'"
            ],
            "application/vnd.google.colaboratory.intrinsic+json": {
              "type": "string"
            }
          },
          "metadata": {},
          "execution_count": 10
        }
      ]
    },
    {
      "cell_type": "code",
      "source": [
        ""
      ],
      "metadata": {
        "id": "Xnz9XS8Wyeh7"
      },
      "execution_count": null,
      "outputs": []
    }
  ]
}