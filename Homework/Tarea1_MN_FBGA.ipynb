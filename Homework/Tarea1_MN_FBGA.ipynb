{
  "nbformat": 4,
  "nbformat_minor": 0,
  "metadata": {
    "colab": {
      "name": "Tarea1_MN_FBGA.ipynb",
      "provenance": [],
      "authorship_tag": "ABX9TyPNp/vkGn3U+urg0hbWWBBw",
      "include_colab_link": true
    },
    "kernelspec": {
      "name": "python3",
      "display_name": "Python 3"
    },
    "language_info": {
      "name": "python"
    }
  },
  "cells": [
    {
      "cell_type": "markdown",
      "metadata": {
        "id": "view-in-github",
        "colab_type": "text"
      },
      "source": [
        "<a href=\"https://colab.research.google.com/github/AlexDarkk/Numerical-Methods-2nd-Chance/blob/main/Homework/Tarea1_MN_FBGA.ipynb\" target=\"_parent\"><img src=\"https://colab.research.google.com/assets/colab-badge.svg\" alt=\"Open In Colab\"/></a>"
      ]
    },
    {
      "cell_type": "markdown",
      "source": [
        "#**Tarea 1 Métodos Numéricos**\n",
        "## Entrega: "
      ],
      "metadata": {
        "id": "nEZI8WLHzTSo"
      }
    },
    {
      "cell_type": "markdown",
      "source": [
        "### 1.- Texto con diferente tamaño de letra."
      ],
      "metadata": {
        "id": "943S9f7bzs-o"
      }
    },
    {
      "cell_type": "markdown",
      "source": [
        "### 2.- Un arreglo con numeros pares entre 50 y 82 (incluir ambos valores)"
      ],
      "metadata": {
        "id": "k2S_cDe7z2U3"
      }
    },
    {
      "cell_type": "code",
      "execution_count": null,
      "metadata": {
        "colab": {
          "base_uri": "https://localhost:8080/"
        },
        "id": "f0Yp_G--zSpx",
        "outputId": "50bc5d78-c6a3-4e3c-a1df-2dedd3b63ac8"
      },
      "outputs": [
        {
          "output_type": "execute_result",
          "data": {
            "text/plain": [
              "array([50, 52, 54, 56, 58, 60, 62, 64, 66, 68, 70, 72, 74, 76, 78, 80, 82])"
            ]
          },
          "metadata": {},
          "execution_count": 1
        }
      ],
      "source": [
        "import numpy as np\n",
        "\n",
        "\n",
        "#Crando una arreglo con numeros desde 50 hasta 82 tomando en cuenta unicamente los valores pares, haciendo que el paso (3er argumento) sea de 2\n",
        "a1 = np.arange(50,84,2)\n",
        "a1"
      ]
    },
    {
      "cell_type": "markdown",
      "source": [
        "### 3.- Una función que calcule el factorial de un numero utilizando \"for\""
      ],
      "metadata": {
        "id": "QdiB7cN71T-O"
      }
    },
    {
      "cell_type": "code",
      "source": [
        "#Factorial no mayor a 10\n",
        "def factorial(n):\n",
        "  if (n==0):\n",
        "    return 1\n",
        "  else:\n",
        "    fact=1\n",
        "    for i in range(1, n+1):\n",
        "      fact=fact*i\n",
        "    return fact\n",
        "\n",
        "factorial(7)"
      ],
      "metadata": {
        "colab": {
          "base_uri": "https://localhost:8080/"
        },
        "id": "KTw7e5kA0wpG",
        "outputId": "56600493-5c8f-4d4f-f015-d41579cb0dca"
      },
      "execution_count": null,
      "outputs": [
        {
          "output_type": "execute_result",
          "data": {
            "text/plain": [
              "5040"
            ]
          },
          "metadata": {},
          "execution_count": 44
        }
      ]
    },
    {
      "cell_type": "code",
      "source": [
        "# Factorial no mayor a 10\n",
        "def factorial(n):\n",
        "  if (n==0):\n",
        "    return 1\n",
        "  else:\n",
        "    fact=1\n",
        "    i=1\n",
        "    while i<=n:\n",
        "      fact=fact*i\n",
        "      i = i+1\n",
        "    return fact\n",
        "\n",
        "factorial(0)"
      ],
      "metadata": {
        "colab": {
          "base_uri": "https://localhost:8080/"
        },
        "id": "1U6yL3VN8JAH",
        "outputId": "2eece275-5459-4e3b-f108-f7c427743cd7"
      },
      "execution_count": null,
      "outputs": [
        {
          "output_type": "execute_result",
          "data": {
            "text/plain": [
              "1"
            ]
          },
          "metadata": {},
          "execution_count": 52
        }
      ]
    },
    {
      "cell_type": "markdown",
      "source": [
        "### 5.- Una matriz de 5x5 donde la ultima linea esté compuesta de números 8 y el resto con 3."
      ],
      "metadata": {
        "id": "43sUBG0eCsTn"
      }
    },
    {
      "cell_type": "code",
      "source": [
        "#Se crea una matriz de 5x5 en donde se llena con números 3 despues mediante un ciclo for se cambia los numeros tres de la fila \"4\" en cada una de las columnas\n",
        "\n",
        "m  = np.ones((5,5))*3\n",
        "for i in range(4,5):\n",
        "  for j in range(0,5):\n",
        "    m[i][j]=8\n",
        "m"
      ],
      "metadata": {
        "colab": {
          "base_uri": "https://localhost:8080/"
        },
        "id": "e-bgd75OAtQk",
        "outputId": "cffbf39f-3495-404c-90f3-e8bdb3edb5cf"
      },
      "execution_count": null,
      "outputs": [
        {
          "output_type": "execute_result",
          "data": {
            "text/plain": [
              "array([[3., 3., 3., 3., 3.],\n",
              "       [3., 3., 3., 3., 3.],\n",
              "       [3., 3., 3., 3., 3.],\n",
              "       [3., 3., 3., 3., 3.],\n",
              "       [8., 8., 8., 8., 8.]])"
            ]
          },
          "metadata": {},
          "execution_count": 57
        }
      ]
    },
    {
      "cell_type": "markdown",
      "source": [
        "#6.- Las siguientes formulas en modo matemático:\n",
        "\n",
        "*   $f(x)=\\frac{1}{x+4}$\n",
        "*  $g(x)=\\frac{x}{x^{2}+4}$\n",
        "\n",
        "\n",
        "\n",
        "\n"
      ],
      "metadata": {
        "id": "kk527rIrEatN"
      }
    },
    {
      "cell_type": "markdown",
      "source": [
        "# 7.- Una grafica con $f(x)$ y $g(x)$ para x entre -1 y 10 (usa el número de puntos que creas conveniente)."
      ],
      "metadata": {
        "id": "CYMUV7DsE9NN"
      }
    },
    {
      "cell_type": "code",
      "source": [
        "import matplotlib.pyplot as plt\n",
        "x = np.arange(-1,10,0.1)\n",
        "y1 = 1/(x+4)\n",
        "y2 = x/((x**2)+4)\n",
        "\n",
        "plt.plot(x,y1, label = 'f(x) = 1/(x+4)', c='b')\n",
        "plt.plot(x,y2, label = 'g(x) = x/([x^2]+4)', c='r')\n",
        "plt.title('Ejercicio 7 f(x) y g(x)')\n",
        "plt.grid(True)\n",
        "plt.xlabel('Eje x')\n",
        "plt.ylabel('Eje y')\n",
        "plt.legend()"
      ],
      "metadata": {
        "colab": {
          "base_uri": "https://localhost:8080/",
          "height": 312
        },
        "id": "TpZ_PfvADXnz",
        "outputId": "a0845f0c-14bc-4cfb-b1d5-6d41c37c96bf"
      },
      "execution_count": null,
      "outputs": [
        {
          "output_type": "execute_result",
          "data": {
            "text/plain": [
              "<matplotlib.legend.Legend at 0x7fbcf84223d0>"
            ]
          },
          "metadata": {},
          "execution_count": 88
        },
        {
          "output_type": "display_data",
          "data": {
            "image/png": "[encoded data removed]",
            "text/plain": [
              "<Figure size 432x288 with 1 Axes>"
            ]
          },
          "metadata": {
            "needs_background": "light"
          }
        }
      ]
    },
    {
      "cell_type": "code",
      "source": [
        ""
      ],
      "metadata": {
        "id": "sGhM_sNKGu8L"
      },
      "execution_count": null,
      "outputs": []
    }
  ]
}